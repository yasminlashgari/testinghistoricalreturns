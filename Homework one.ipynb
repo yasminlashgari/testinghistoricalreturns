{
 "cells": [
  {
   "cell_type": "markdown",
   "metadata": {},
   "source": [
    "### Assignment 1 Sample Codes"
   ]
  },
  {
   "cell_type": "code",
   "execution_count": 10,
   "metadata": {},
   "outputs": [],
   "source": [
    "# Import modules\n",
    "import pandas as pd\n",
    "import numpy as np\n",
    "import csv"
   ]
  },
  {
   "cell_type": "markdown",
   "metadata": {},
   "source": [
    "#### Question 1"
   ]
  },
  {
   "cell_type": "code",
   "execution_count": 4,
   "metadata": {
    "scrolled": true
   },
   "outputs": [],
   "source": [
    "# import monthly data\n",
    "monthly = pd.read_csv('./monthly.csv',header=None)\n",
    "date = monthly.iloc[:,0]\n",
    "monthly = monthly.drop(0,axis=1)\n",
    "monthly.columns = ['VW','EW']+['DEC{}'.format(i) for i in range(1, 11)]  # Specify the names of the columns"
   ]
  },
  {
   "cell_type": "markdown",
   "metadata": {},
   "source": [
    "### Here is the code for generating some test statistics for the portfolios"
   ]
  },
  {
   "cell_type": "code",
   "execution_count": 5,
   "metadata": {},
   "outputs": [
    {
     "data": {
      "text/html": [
       "<div>\n",
       "<style scoped>\n",
       "    .dataframe tbody tr th:only-of-type {\n",
       "        vertical-align: middle;\n",
       "    }\n",
       "\n",
       "    .dataframe tbody tr th {\n",
       "        vertical-align: top;\n",
       "    }\n",
       "\n",
       "    .dataframe thead th {\n",
       "        text-align: right;\n",
       "    }\n",
       "</style>\n",
       "<table border=\"1\" class=\"dataframe\">\n",
       "  <thead>\n",
       "    <tr style=\"text-align: right;\">\n",
       "      <th></th>\n",
       "      <th>VW</th>\n",
       "      <th>EW</th>\n",
       "      <th>DEC1</th>\n",
       "      <th>DEC2</th>\n",
       "      <th>DEC3</th>\n",
       "      <th>DEC4</th>\n",
       "      <th>DEC5</th>\n",
       "      <th>DEC6</th>\n",
       "      <th>DEC7</th>\n",
       "      <th>DEC8</th>\n",
       "      <th>DEC9</th>\n",
       "      <th>DEC10</th>\n",
       "    </tr>\n",
       "  </thead>\n",
       "  <tbody>\n",
       "    <tr>\n",
       "      <th>count</th>\n",
       "      <td>1128.000000</td>\n",
       "      <td>1128.000000</td>\n",
       "      <td>1128.000000</td>\n",
       "      <td>1128.000000</td>\n",
       "      <td>1128.000000</td>\n",
       "      <td>1128.000000</td>\n",
       "      <td>1128.000000</td>\n",
       "      <td>1128.000000</td>\n",
       "      <td>1128.000000</td>\n",
       "      <td>1128.000000</td>\n",
       "      <td>1128.000000</td>\n",
       "      <td>1128.000000</td>\n",
       "    </tr>\n",
       "    <tr>\n",
       "      <th>mean</th>\n",
       "      <td>0.009259</td>\n",
       "      <td>0.012221</td>\n",
       "      <td>0.017078</td>\n",
       "      <td>0.013232</td>\n",
       "      <td>0.011625</td>\n",
       "      <td>0.011314</td>\n",
       "      <td>0.011257</td>\n",
       "      <td>0.011053</td>\n",
       "      <td>0.010901</td>\n",
       "      <td>0.010030</td>\n",
       "      <td>0.010473</td>\n",
       "      <td>0.008894</td>\n",
       "    </tr>\n",
       "    <tr>\n",
       "      <th>std</th>\n",
       "      <td>0.053128</td>\n",
       "      <td>0.071512</td>\n",
       "      <td>0.102692</td>\n",
       "      <td>0.088211</td>\n",
       "      <td>0.079402</td>\n",
       "      <td>0.074804</td>\n",
       "      <td>0.071765</td>\n",
       "      <td>0.069471</td>\n",
       "      <td>0.066436</td>\n",
       "      <td>0.062544</td>\n",
       "      <td>0.059232</td>\n",
       "      <td>0.050877</td>\n",
       "    </tr>\n",
       "    <tr>\n",
       "      <th>min</th>\n",
       "      <td>-0.291731</td>\n",
       "      <td>-0.312753</td>\n",
       "      <td>-0.350205</td>\n",
       "      <td>-0.357532</td>\n",
       "      <td>-0.325695</td>\n",
       "      <td>-0.319836</td>\n",
       "      <td>-0.333994</td>\n",
       "      <td>-0.323497</td>\n",
       "      <td>-0.299028</td>\n",
       "      <td>-0.325057</td>\n",
       "      <td>-0.314467</td>\n",
       "      <td>-0.281972</td>\n",
       "    </tr>\n",
       "    <tr>\n",
       "      <th>25%</th>\n",
       "      <td>-0.018074</td>\n",
       "      <td>-0.019978</td>\n",
       "      <td>-0.029277</td>\n",
       "      <td>-0.025744</td>\n",
       "      <td>-0.022344</td>\n",
       "      <td>-0.023339</td>\n",
       "      <td>-0.022033</td>\n",
       "      <td>-0.022264</td>\n",
       "      <td>-0.022383</td>\n",
       "      <td>-0.021748</td>\n",
       "      <td>-0.019158</td>\n",
       "      <td>-0.016667</td>\n",
       "    </tr>\n",
       "    <tr>\n",
       "      <th>50%</th>\n",
       "      <td>0.012866</td>\n",
       "      <td>0.014240</td>\n",
       "      <td>0.009539</td>\n",
       "      <td>0.011423</td>\n",
       "      <td>0.011212</td>\n",
       "      <td>0.013363</td>\n",
       "      <td>0.012711</td>\n",
       "      <td>0.014455</td>\n",
       "      <td>0.014134</td>\n",
       "      <td>0.013647</td>\n",
       "      <td>0.014152</td>\n",
       "      <td>0.012309</td>\n",
       "    </tr>\n",
       "    <tr>\n",
       "      <th>75%</th>\n",
       "      <td>0.038917</td>\n",
       "      <td>0.043249</td>\n",
       "      <td>0.053191</td>\n",
       "      <td>0.046167</td>\n",
       "      <td>0.045907</td>\n",
       "      <td>0.045745</td>\n",
       "      <td>0.044651</td>\n",
       "      <td>0.045492</td>\n",
       "      <td>0.045494</td>\n",
       "      <td>0.043670</td>\n",
       "      <td>0.043093</td>\n",
       "      <td>0.038145</td>\n",
       "    </tr>\n",
       "    <tr>\n",
       "      <th>max</th>\n",
       "      <td>0.394143</td>\n",
       "      <td>0.665936</td>\n",
       "      <td>1.112312</td>\n",
       "      <td>0.865855</td>\n",
       "      <td>0.894700</td>\n",
       "      <td>0.641794</td>\n",
       "      <td>0.605076</td>\n",
       "      <td>0.537786</td>\n",
       "      <td>0.538020</td>\n",
       "      <td>0.514179</td>\n",
       "      <td>0.439538</td>\n",
       "      <td>0.365025</td>\n",
       "    </tr>\n",
       "  </tbody>\n",
       "</table>\n",
       "</div>"
      ],
      "text/plain": [
       "                VW           EW         DEC1         DEC2         DEC3  \\\n",
       "count  1128.000000  1128.000000  1128.000000  1128.000000  1128.000000   \n",
       "mean      0.009259     0.012221     0.017078     0.013232     0.011625   \n",
       "std       0.053128     0.071512     0.102692     0.088211     0.079402   \n",
       "min      -0.291731    -0.312753    -0.350205    -0.357532    -0.325695   \n",
       "25%      -0.018074    -0.019978    -0.029277    -0.025744    -0.022344   \n",
       "50%       0.012866     0.014240     0.009539     0.011423     0.011212   \n",
       "75%       0.038917     0.043249     0.053191     0.046167     0.045907   \n",
       "max       0.394143     0.665936     1.112312     0.865855     0.894700   \n",
       "\n",
       "              DEC4         DEC5         DEC6         DEC7         DEC8  \\\n",
       "count  1128.000000  1128.000000  1128.000000  1128.000000  1128.000000   \n",
       "mean      0.011314     0.011257     0.011053     0.010901     0.010030   \n",
       "std       0.074804     0.071765     0.069471     0.066436     0.062544   \n",
       "min      -0.319836    -0.333994    -0.323497    -0.299028    -0.325057   \n",
       "25%      -0.023339    -0.022033    -0.022264    -0.022383    -0.021748   \n",
       "50%       0.013363     0.012711     0.014455     0.014134     0.013647   \n",
       "75%       0.045745     0.044651     0.045492     0.045494     0.043670   \n",
       "max       0.641794     0.605076     0.537786     0.538020     0.514179   \n",
       "\n",
       "              DEC9        DEC10  \n",
       "count  1128.000000  1128.000000  \n",
       "mean      0.010473     0.008894  \n",
       "std       0.059232     0.050877  \n",
       "min      -0.314467    -0.281972  \n",
       "25%      -0.019158    -0.016667  \n",
       "50%       0.014152     0.012309  \n",
       "75%       0.043093     0.038145  \n",
       "max       0.439538     0.365025  "
      ]
     },
     "execution_count": 5,
     "metadata": {},
     "output_type": "execute_result"
    }
   ],
   "source": [
    "monthly.describe()"
   ]
  },
  {
   "cell_type": "code",
   "execution_count": 8,
   "metadata": {},
   "outputs": [],
   "source": [
    "#Skewness and kurtosis test"
   ]
  },
  {
   "cell_type": "code",
   "execution_count": 33,
   "metadata": {},
   "outputs": [
    {
     "data": {
      "text/plain": [
       "array([0.14871698, 1.49791109, 3.03379398, 2.04901595, 1.94986295,\n",
       "       1.12841379, 0.9070566 , 0.66628446, 0.46853841, 0.30422241,\n",
       "       0.22340303, 0.08464521])"
      ]
     },
     "execution_count": 33,
     "metadata": {},
     "output_type": "execute_result"
    }
   ],
   "source": [
    "from scipy.stats import kurtosis, skew, normaltest\n",
    "skew(monthly)"
   ]
  },
  {
   "cell_type": "code",
   "execution_count": 34,
   "metadata": {},
   "outputs": [
    {
     "data": {
      "text/plain": [
       "array([ 7.96824207, 15.30637496, 25.45470337, 19.01234216, 21.52575842,\n",
       "       12.10151984, 11.29743462,  9.24767615,  8.18678295,  8.30033828,\n",
       "        7.86479231,  7.41407592])"
      ]
     },
     "execution_count": 34,
     "metadata": {},
     "output_type": "execute_result"
    }
   ],
   "source": [
    "kurtosis(monthly)"
   ]
  },
  {
   "cell_type": "code",
   "execution_count": 11,
   "metadata": {},
   "outputs": [],
   "source": [
    "#Normality test"
   ]
  },
  {
   "cell_type": "code",
   "execution_count": 12,
   "metadata": {},
   "outputs": [
    {
     "name": "stderr",
     "output_type": "stream",
     "text": [
      "C:\\Users\\16138\\anaconda3\\lib\\site-packages\\scipy\\stats\\stats.py:1603: UserWarning: kurtosistest only valid for n>=20 ... continuing anyway, n=12\n",
      "  warnings.warn(\"kurtosistest only valid for n>=20 ... continuing \"\n"
     ]
    },
    {
     "data": {
      "text/plain": [
       "NormaltestResult(statistic=2.545730502542165, pvalue=0.28002812028366514)"
      ]
     },
     "execution_count": 12,
     "metadata": {},
     "output_type": "execute_result"
    }
   ],
   "source": [
    "normaltest(skew(monthly))"
   ]
  },
  {
   "cell_type": "code",
   "execution_count": 13,
   "metadata": {},
   "outputs": [
    {
     "data": {
      "text/plain": [
       "NormaltestResult(statistic=2.9605828299041623, pvalue=0.22757136102262226)"
      ]
     },
     "execution_count": 13,
     "metadata": {},
     "output_type": "execute_result"
    }
   ],
   "source": [
    "normaltest(kurtosis(monthly))"
   ]
  },
  {
   "cell_type": "code",
   "execution_count": 14,
   "metadata": {},
   "outputs": [],
   "source": [
    "#Conclusion: the distribution is not normal- the p value is much higher than 0, thus the result is not statistically significant. \n",
    "#cannot reject the null hypothesis- that the distribution is normal"
   ]
  },
  {
   "cell_type": "code",
   "execution_count": 29,
   "metadata": {},
   "outputs": [
    {
     "name": "stdout",
     "output_type": "stream",
     "text": [
      "          date         1         2         3         4         5         6  \\\n",
      "0     19260130  0.000561  0.023174  0.143660  0.043982  0.003839  0.021334   \n",
      "12    19270131  0.002416  0.012556  0.003172  0.002805  0.014317  0.032929   \n",
      "24    19280131 -0.003340  0.032441  0.082891  0.036933  0.050425  0.024538   \n",
      "36    19290131  0.053935  0.033526  0.037070  0.014078  0.026836  0.018479   \n",
      "48    19300131  0.058407  0.109826  0.240036  0.167626  0.119548  0.166176   \n",
      "...        ...       ...       ...       ...       ...       ...       ...   \n",
      "1068  20150130 -0.028451 -0.021522  0.001871  0.004039 -0.012599 -0.042065   \n",
      "1080  20160129 -0.058119 -0.082914 -0.077448 -0.083936 -0.088380 -0.084737   \n",
      "1092  20170131  0.022354  0.027060  0.069403  0.034900  0.028130  0.009595   \n",
      "1104  20180131  0.051369  0.029025  0.035603  0.022869  0.029548  0.006349   \n",
      "1116  20190131  0.089323  0.133112  0.257212  0.156958  0.121558  0.094528   \n",
      "\n",
      "             7         8         9        10        11        12  \n",
      "0     0.026445 -0.001635  0.004253  0.002818  0.004725 -0.003837  \n",
      "12    0.016315  0.000204  0.020612  0.007512  0.007482 -0.002207  \n",
      "24    0.007223  0.032571  0.010485 -0.005964  0.018960 -0.013901  \n",
      "36    0.013253  0.025703  0.024849  0.039332  0.065507  0.059319  \n",
      "48    0.073301  0.092460  0.074717  0.052793  0.057730  0.053463  \n",
      "...        ...       ...       ...       ...       ...       ...  \n",
      "1068 -0.038437 -0.037104 -0.034707 -0.029530 -0.011817 -0.030201  \n",
      "1080 -0.091393 -0.096984 -0.092163 -0.090376 -0.071606 -0.052603  \n",
      "1092  0.004011  0.009221  0.017846  0.019803  0.025076  0.022690  \n",
      "1104  0.008132  0.021878  0.023763  0.017545  0.035130  0.057159  \n",
      "1116  0.138760  0.102491  0.116844  0.118429  0.118972  0.082857  \n",
      "\n",
      "[94 rows x 13 columns]\n"
     ]
    }
   ],
   "source": [
    "#question3-summary statistics for january\n",
    "jan=pd.read_csv(\"./monthly.csv\",header=None)\n",
    "df_jan=jan.rename(columns={0:\"date\"})\n",
    "january=df_jan.loc[::12,:]\n",
    "print(january)\n",
    "\n"
   ]
  },
  {
   "cell_type": "code",
   "execution_count": 30,
   "metadata": {},
   "outputs": [
    {
     "name": "stdout",
     "output_type": "stream",
     "text": [
      "            VW        EW      Dec1      Dec2      Dec3      Dec4      Dec5  \\\n",
      "0     0.000561  0.023174  0.143660  0.043982  0.003839  0.021334  0.026445   \n",
      "12    0.002416  0.012556  0.003172  0.002805  0.014317  0.032929  0.016315   \n",
      "24   -0.003340  0.032441  0.082891  0.036933  0.050425  0.024538  0.007223   \n",
      "36    0.053935  0.033526  0.037070  0.014078  0.026836  0.018479  0.013253   \n",
      "48    0.058407  0.109826  0.240036  0.167626  0.119548  0.166176  0.073301   \n",
      "...        ...       ...       ...       ...       ...       ...       ...   \n",
      "1068 -0.028451 -0.021522  0.001871  0.004039 -0.012599 -0.042065 -0.038437   \n",
      "1080 -0.058119 -0.082914 -0.077448 -0.083936 -0.088380 -0.084737 -0.091393   \n",
      "1092  0.022354  0.027060  0.069403  0.034900  0.028130  0.009595  0.004011   \n",
      "1104  0.051369  0.029025  0.035603  0.022869  0.029548  0.006349  0.008132   \n",
      "1116  0.089323  0.133112  0.257212  0.156958  0.121558  0.094528  0.138760   \n",
      "\n",
      "          Dec6      Dec7      Dec8      Dec9     Dec10  \n",
      "0    -0.001635  0.004253  0.002818  0.004725 -0.003837  \n",
      "12    0.000204  0.020612  0.007512  0.007482 -0.002207  \n",
      "24    0.032571  0.010485 -0.005964  0.018960 -0.013901  \n",
      "36    0.025703  0.024849  0.039332  0.065507  0.059319  \n",
      "48    0.092460  0.074717  0.052793  0.057730  0.053463  \n",
      "...        ...       ...       ...       ...       ...  \n",
      "1068 -0.037104 -0.034707 -0.029530 -0.011817 -0.030201  \n",
      "1080 -0.096984 -0.092163 -0.090376 -0.071606 -0.052603  \n",
      "1092  0.009221  0.017846  0.019803  0.025076  0.022690  \n",
      "1104  0.021878  0.023763  0.017545  0.035130  0.057159  \n",
      "1116  0.102491  0.116844  0.118429  0.118972  0.082857  \n",
      "\n",
      "[94 rows x 12 columns]\n"
     ]
    }
   ],
   "source": [
    "jan_df=january.drop(\"date\",axis=1)\n",
    "jan_df.columns=[\"VW\",\"EW\"]+[\"Dec{}\".format(i) for i in range(1,11)] #labelling columns\n",
    "print(jan_df)"
   ]
  },
  {
   "cell_type": "code",
   "execution_count": 31,
   "metadata": {},
   "outputs": [
    {
     "data": {
      "text/html": [
       "<div>\n",
       "<style scoped>\n",
       "    .dataframe tbody tr th:only-of-type {\n",
       "        vertical-align: middle;\n",
       "    }\n",
       "\n",
       "    .dataframe tbody tr th {\n",
       "        vertical-align: top;\n",
       "    }\n",
       "\n",
       "    .dataframe thead th {\n",
       "        text-align: right;\n",
       "    }\n",
       "</style>\n",
       "<table border=\"1\" class=\"dataframe\">\n",
       "  <thead>\n",
       "    <tr style=\"text-align: right;\">\n",
       "      <th></th>\n",
       "      <th>VW</th>\n",
       "      <th>EW</th>\n",
       "      <th>Dec1</th>\n",
       "      <th>Dec2</th>\n",
       "      <th>Dec3</th>\n",
       "      <th>Dec4</th>\n",
       "      <th>Dec5</th>\n",
       "      <th>Dec6</th>\n",
       "      <th>Dec7</th>\n",
       "      <th>Dec8</th>\n",
       "      <th>Dec9</th>\n",
       "      <th>Dec10</th>\n",
       "    </tr>\n",
       "  </thead>\n",
       "  <tbody>\n",
       "    <tr>\n",
       "      <th>count</th>\n",
       "      <td>94.000000</td>\n",
       "      <td>94.000000</td>\n",
       "      <td>94.000000</td>\n",
       "      <td>94.000000</td>\n",
       "      <td>94.000000</td>\n",
       "      <td>94.000000</td>\n",
       "      <td>94.000000</td>\n",
       "      <td>94.000000</td>\n",
       "      <td>94.000000</td>\n",
       "      <td>94.000000</td>\n",
       "      <td>94.000000</td>\n",
       "      <td>94.000000</td>\n",
       "    </tr>\n",
       "    <tr>\n",
       "      <th>mean</th>\n",
       "      <td>0.015453</td>\n",
       "      <td>0.053160</td>\n",
       "      <td>0.124780</td>\n",
       "      <td>0.084924</td>\n",
       "      <td>0.068584</td>\n",
       "      <td>0.056921</td>\n",
       "      <td>0.047137</td>\n",
       "      <td>0.041591</td>\n",
       "      <td>0.032557</td>\n",
       "      <td>0.025499</td>\n",
       "      <td>0.022475</td>\n",
       "      <td>0.010856</td>\n",
       "    </tr>\n",
       "    <tr>\n",
       "      <th>std</th>\n",
       "      <td>0.047539</td>\n",
       "      <td>0.070806</td>\n",
       "      <td>0.124875</td>\n",
       "      <td>0.092798</td>\n",
       "      <td>0.083173</td>\n",
       "      <td>0.078740</td>\n",
       "      <td>0.070693</td>\n",
       "      <td>0.070380</td>\n",
       "      <td>0.065302</td>\n",
       "      <td>0.059004</td>\n",
       "      <td>0.054192</td>\n",
       "      <td>0.045922</td>\n",
       "    </tr>\n",
       "    <tr>\n",
       "      <th>min</th>\n",
       "      <td>-0.077467</td>\n",
       "      <td>-0.082914</td>\n",
       "      <td>-0.077448</td>\n",
       "      <td>-0.089692</td>\n",
       "      <td>-0.088380</td>\n",
       "      <td>-0.103138</td>\n",
       "      <td>-0.091393</td>\n",
       "      <td>-0.096984</td>\n",
       "      <td>-0.092163</td>\n",
       "      <td>-0.090376</td>\n",
       "      <td>-0.081609</td>\n",
       "      <td>-0.079495</td>\n",
       "    </tr>\n",
       "    <tr>\n",
       "      <th>25%</th>\n",
       "      <td>-0.025711</td>\n",
       "      <td>0.005728</td>\n",
       "      <td>0.044327</td>\n",
       "      <td>0.023751</td>\n",
       "      <td>0.016708</td>\n",
       "      <td>0.008303</td>\n",
       "      <td>0.004423</td>\n",
       "      <td>-0.006743</td>\n",
       "      <td>-0.008638</td>\n",
       "      <td>-0.017942</td>\n",
       "      <td>-0.014710</td>\n",
       "      <td>-0.024173</td>\n",
       "    </tr>\n",
       "    <tr>\n",
       "      <th>50%</th>\n",
       "      <td>0.015043</td>\n",
       "      <td>0.040897</td>\n",
       "      <td>0.087863</td>\n",
       "      <td>0.062954</td>\n",
       "      <td>0.057791</td>\n",
       "      <td>0.042505</td>\n",
       "      <td>0.040299</td>\n",
       "      <td>0.038484</td>\n",
       "      <td>0.022298</td>\n",
       "      <td>0.017866</td>\n",
       "      <td>0.021609</td>\n",
       "      <td>0.010849</td>\n",
       "    </tr>\n",
       "    <tr>\n",
       "      <th>75%</th>\n",
       "      <td>0.050925</td>\n",
       "      <td>0.088335</td>\n",
       "      <td>0.155497</td>\n",
       "      <td>0.116180</td>\n",
       "      <td>0.100781</td>\n",
       "      <td>0.091929</td>\n",
       "      <td>0.081865</td>\n",
       "      <td>0.085758</td>\n",
       "      <td>0.074387</td>\n",
       "      <td>0.066524</td>\n",
       "      <td>0.056763</td>\n",
       "      <td>0.044261</td>\n",
       "    </tr>\n",
       "    <tr>\n",
       "      <th>max</th>\n",
       "      <td>0.141600</td>\n",
       "      <td>0.315546</td>\n",
       "      <td>0.638277</td>\n",
       "      <td>0.455985</td>\n",
       "      <td>0.430647</td>\n",
       "      <td>0.355285</td>\n",
       "      <td>0.321189</td>\n",
       "      <td>0.295842</td>\n",
       "      <td>0.281120</td>\n",
       "      <td>0.250274</td>\n",
       "      <td>0.226106</td>\n",
       "      <td>0.131437</td>\n",
       "    </tr>\n",
       "  </tbody>\n",
       "</table>\n",
       "</div>"
      ],
      "text/plain": [
       "              VW         EW       Dec1       Dec2       Dec3       Dec4  \\\n",
       "count  94.000000  94.000000  94.000000  94.000000  94.000000  94.000000   \n",
       "mean    0.015453   0.053160   0.124780   0.084924   0.068584   0.056921   \n",
       "std     0.047539   0.070806   0.124875   0.092798   0.083173   0.078740   \n",
       "min    -0.077467  -0.082914  -0.077448  -0.089692  -0.088380  -0.103138   \n",
       "25%    -0.025711   0.005728   0.044327   0.023751   0.016708   0.008303   \n",
       "50%     0.015043   0.040897   0.087863   0.062954   0.057791   0.042505   \n",
       "75%     0.050925   0.088335   0.155497   0.116180   0.100781   0.091929   \n",
       "max     0.141600   0.315546   0.638277   0.455985   0.430647   0.355285   \n",
       "\n",
       "            Dec5       Dec6       Dec7       Dec8       Dec9      Dec10  \n",
       "count  94.000000  94.000000  94.000000  94.000000  94.000000  94.000000  \n",
       "mean    0.047137   0.041591   0.032557   0.025499   0.022475   0.010856  \n",
       "std     0.070693   0.070380   0.065302   0.059004   0.054192   0.045922  \n",
       "min    -0.091393  -0.096984  -0.092163  -0.090376  -0.081609  -0.079495  \n",
       "25%     0.004423  -0.006743  -0.008638  -0.017942  -0.014710  -0.024173  \n",
       "50%     0.040299   0.038484   0.022298   0.017866   0.021609   0.010849  \n",
       "75%     0.081865   0.085758   0.074387   0.066524   0.056763   0.044261  \n",
       "max     0.321189   0.295842   0.281120   0.250274   0.226106   0.131437  "
      ]
     },
     "execution_count": 31,
     "metadata": {},
     "output_type": "execute_result"
    }
   ],
   "source": [
    "#jan summary statistics\n",
    "jan_df.describe()"
   ]
  },
  {
   "cell_type": "code",
   "execution_count": 35,
   "metadata": {},
   "outputs": [
    {
     "data": {
      "text/plain": [
       "array([0.25555579, 1.09454683, 1.65806033, 1.30772427, 1.41517651,\n",
       "       1.30625508, 1.04104372, 0.98981015, 1.07494643, 0.67108662,\n",
       "       0.68002966, 0.16333556])"
      ]
     },
     "execution_count": 35,
     "metadata": {},
     "output_type": "execute_result"
    }
   ],
   "source": [
    "#skewness test for jan\n",
    "from scipy.stats import kurtosis, skew, normaltest\n",
    "skew(jan_df)"
   ]
  },
  {
   "cell_type": "code",
   "execution_count": 36,
   "metadata": {},
   "outputs": [
    {
     "data": {
      "text/plain": [
       "array([-0.14669631,  2.1363484 ,  3.39866926,  2.37379855,  3.56913414,\n",
       "        3.04611249,  2.09185022,  2.06214406,  2.46447369,  1.257866  ,\n",
       "        1.26264871, -0.32938895])"
      ]
     },
     "execution_count": 36,
     "metadata": {},
     "output_type": "execute_result"
    }
   ],
   "source": [
    "#kurtosis test for jan\n",
    "kurtosis(jan_df)"
   ]
  },
  {
   "cell_type": "code",
   "execution_count": 37,
   "metadata": {},
   "outputs": [
    {
     "name": "stderr",
     "output_type": "stream",
     "text": [
      "C:\\Users\\16138\\anaconda3\\lib\\site-packages\\scipy\\stats\\stats.py:1603: UserWarning: kurtosistest only valid for n>=20 ... continuing anyway, n=12\n",
      "  warnings.warn(\"kurtosistest only valid for n>=20 ... continuing \"\n"
     ]
    },
    {
     "data": {
      "text/plain": [
       "NormaltestResult(statistic=0.7641060730338008, pvalue=0.682458857004835)"
      ]
     },
     "execution_count": 37,
     "metadata": {},
     "output_type": "execute_result"
    }
   ],
   "source": [
    "#normality test\n",
    "normaltest(skew(jan_df))"
   ]
  },
  {
   "cell_type": "code",
   "execution_count": 38,
   "metadata": {},
   "outputs": [
    {
     "data": {
      "text/plain": [
       "NormaltestResult(statistic=1.2205968697368563, pvalue=0.5431887384233003)"
      ]
     },
     "execution_count": 38,
     "metadata": {},
     "output_type": "execute_result"
    }
   ],
   "source": [
    "normaltest(kurtosis(jan_df))"
   ]
  },
  {
   "cell_type": "code",
   "execution_count": null,
   "metadata": {},
   "outputs": [],
   "source": [
    "#as a result the distribution is not normal- the large p-value means we cannot reject the null hypothesis (normality)"
   ]
  },
  {
   "cell_type": "code",
   "execution_count": 40,
   "metadata": {},
   "outputs": [
    {
     "name": "stdout",
     "output_type": "stream",
     "text": [
      "          date         1         2         3         4         5         6  \\\n",
      "1     19260227 -0.033046 -0.053510 -0.045718 -0.067602 -0.045779 -0.079699   \n",
      "2     19260331 -0.064002 -0.096824 -0.139863 -0.095192 -0.125909 -0.116952   \n",
      "3     19260430  0.037019  0.032946  0.046633  0.011215  0.010318  0.055662   \n",
      "4     19260528  0.012095  0.001035 -0.004305 -0.021611  0.002612  0.023445   \n",
      "5     19260630  0.053664  0.050487  0.001354  0.048366  0.063170  0.036993   \n",
      "...        ...       ...       ...       ...       ...       ...       ...   \n",
      "1123  20190830 -0.020776 -0.045753 -0.050496 -0.037699 -0.028386 -0.044906   \n",
      "1124  20190930  0.016057  0.018962 -0.024063 -0.007751  0.009949  0.019673   \n",
      "1125  20191031  0.019245  0.003973 -0.039683 -0.027228  0.006116  0.006034   \n",
      "1126  20191129  0.036100  0.029982 -0.009684  0.035877  0.047326  0.038627   \n",
      "1127  20191231  0.028380  0.048576  0.051570  0.098430  0.063607  0.050885   \n",
      "\n",
      "             7         8         9        10        11        12  \n",
      "1    -0.070859 -0.053558 -0.052080 -0.056464 -0.035508 -0.022392  \n",
      "2    -0.093662 -0.088367 -0.099882 -0.075299 -0.069460 -0.051874  \n",
      "3     0.062817  0.021249  0.041615  0.044396  0.034477  0.036293  \n",
      "4     0.009262 -0.009640  0.012968  0.011620  0.013865  0.013097  \n",
      "5     0.037166  0.032904  0.055509  0.053306  0.060762  0.053729  \n",
      "...        ...       ...       ...       ...       ...       ...  \n",
      "1123 -0.053701 -0.052150 -0.049942 -0.037575 -0.036412 -0.016415  \n",
      "1124  0.011758  0.008987  0.017580  0.011391  0.010338  0.017102  \n",
      "1125  0.017182  0.016788  0.029495  0.019410  0.010709  0.020210  \n",
      "1126  0.036025  0.042223  0.048971  0.029807  0.042952  0.035165  \n",
      "1127  0.044401  0.061996  0.032799  0.021552  0.017964  0.028964  \n",
      "\n",
      "[1034 rows x 13 columns]\n"
     ]
    }
   ],
   "source": [
    "#REST OF MONTHS\n",
    "months=df_jan[df_jan.index % 12 !=0]\n",
    "print(months)"
   ]
  },
  {
   "cell_type": "code",
   "execution_count": 41,
   "metadata": {},
   "outputs": [
    {
     "name": "stdout",
     "output_type": "stream",
     "text": [
      "            VW        EW      Dec1      Dec2      Dec3      Dec4      Dec5  \\\n",
      "1    -0.033046 -0.053510 -0.045718 -0.067602 -0.045779 -0.079699 -0.070859   \n",
      "2    -0.064002 -0.096824 -0.139863 -0.095192 -0.125909 -0.116952 -0.093662   \n",
      "3     0.037019  0.032946  0.046633  0.011215  0.010318  0.055662  0.062817   \n",
      "4     0.012095  0.001035 -0.004305 -0.021611  0.002612  0.023445  0.009262   \n",
      "5     0.053664  0.050487  0.001354  0.048366  0.063170  0.036993  0.037166   \n",
      "...        ...       ...       ...       ...       ...       ...       ...   \n",
      "1123 -0.020776 -0.045753 -0.050496 -0.037699 -0.028386 -0.044906 -0.053701   \n",
      "1124  0.016057  0.018962 -0.024063 -0.007751  0.009949  0.019673  0.011758   \n",
      "1125  0.019245  0.003973 -0.039683 -0.027228  0.006116  0.006034  0.017182   \n",
      "1126  0.036100  0.029982 -0.009684  0.035877  0.047326  0.038627  0.036025   \n",
      "1127  0.028380  0.048576  0.051570  0.098430  0.063607  0.050885  0.044401   \n",
      "\n",
      "          Dec6      Dec7      Dec8      Dec9     Dec10  \n",
      "1    -0.053558 -0.052080 -0.056464 -0.035508 -0.022392  \n",
      "2    -0.088367 -0.099882 -0.075299 -0.069460 -0.051874  \n",
      "3     0.021249  0.041615  0.044396  0.034477  0.036293  \n",
      "4    -0.009640  0.012968  0.011620  0.013865  0.013097  \n",
      "5     0.032904  0.055509  0.053306  0.060762  0.053729  \n",
      "...        ...       ...       ...       ...       ...  \n",
      "1123 -0.052150 -0.049942 -0.037575 -0.036412 -0.016415  \n",
      "1124  0.008987  0.017580  0.011391  0.010338  0.017102  \n",
      "1125  0.016788  0.029495  0.019410  0.010709  0.020210  \n",
      "1126  0.042223  0.048971  0.029807  0.042952  0.035165  \n",
      "1127  0.061996  0.032799  0.021552  0.017964  0.028964  \n",
      "\n",
      "[1034 rows x 12 columns]\n"
     ]
    }
   ],
   "source": [
    "month_df=months.drop(\"date\", axis=1)\n",
    "month_df.columns=[\"VW\",\"EW\"]+[\"Dec{}\".format(i) for i in range (1,11)] #labelling columns\n",
    "print(month_df)"
   ]
  },
  {
   "cell_type": "code",
   "execution_count": 42,
   "metadata": {},
   "outputs": [
    {
     "data": {
      "text/html": [
       "<div>\n",
       "<style scoped>\n",
       "    .dataframe tbody tr th:only-of-type {\n",
       "        vertical-align: middle;\n",
       "    }\n",
       "\n",
       "    .dataframe tbody tr th {\n",
       "        vertical-align: top;\n",
       "    }\n",
       "\n",
       "    .dataframe thead th {\n",
       "        text-align: right;\n",
       "    }\n",
       "</style>\n",
       "<table border=\"1\" class=\"dataframe\">\n",
       "  <thead>\n",
       "    <tr style=\"text-align: right;\">\n",
       "      <th></th>\n",
       "      <th>VW</th>\n",
       "      <th>EW</th>\n",
       "      <th>Dec1</th>\n",
       "      <th>Dec2</th>\n",
       "      <th>Dec3</th>\n",
       "      <th>Dec4</th>\n",
       "      <th>Dec5</th>\n",
       "      <th>Dec6</th>\n",
       "      <th>Dec7</th>\n",
       "      <th>Dec8</th>\n",
       "      <th>Dec9</th>\n",
       "      <th>Dec10</th>\n",
       "    </tr>\n",
       "  </thead>\n",
       "  <tbody>\n",
       "    <tr>\n",
       "      <th>count</th>\n",
       "      <td>1034.000000</td>\n",
       "      <td>1034.000000</td>\n",
       "      <td>1034.000000</td>\n",
       "      <td>1034.000000</td>\n",
       "      <td>1034.000000</td>\n",
       "      <td>1034.000000</td>\n",
       "      <td>1034.000000</td>\n",
       "      <td>1034.000000</td>\n",
       "      <td>1034.000000</td>\n",
       "      <td>1034.000000</td>\n",
       "      <td>1034.000000</td>\n",
       "      <td>1034.000000</td>\n",
       "    </tr>\n",
       "    <tr>\n",
       "      <th>mean</th>\n",
       "      <td>0.008696</td>\n",
       "      <td>0.008500</td>\n",
       "      <td>0.007287</td>\n",
       "      <td>0.006715</td>\n",
       "      <td>0.006447</td>\n",
       "      <td>0.007168</td>\n",
       "      <td>0.007995</td>\n",
       "      <td>0.008277</td>\n",
       "      <td>0.008933</td>\n",
       "      <td>0.008624</td>\n",
       "      <td>0.009382</td>\n",
       "      <td>0.008716</td>\n",
       "    </tr>\n",
       "    <tr>\n",
       "      <th>std</th>\n",
       "      <td>0.053592</td>\n",
       "      <td>0.070439</td>\n",
       "      <td>0.094603</td>\n",
       "      <td>0.084874</td>\n",
       "      <td>0.077030</td>\n",
       "      <td>0.073076</td>\n",
       "      <td>0.071001</td>\n",
       "      <td>0.068752</td>\n",
       "      <td>0.066219</td>\n",
       "      <td>0.062694</td>\n",
       "      <td>0.059574</td>\n",
       "      <td>0.051321</td>\n",
       "    </tr>\n",
       "    <tr>\n",
       "      <th>min</th>\n",
       "      <td>-0.291731</td>\n",
       "      <td>-0.312753</td>\n",
       "      <td>-0.350205</td>\n",
       "      <td>-0.357532</td>\n",
       "      <td>-0.325695</td>\n",
       "      <td>-0.319836</td>\n",
       "      <td>-0.333994</td>\n",
       "      <td>-0.323497</td>\n",
       "      <td>-0.299028</td>\n",
       "      <td>-0.325057</td>\n",
       "      <td>-0.314467</td>\n",
       "      <td>-0.281972</td>\n",
       "    </tr>\n",
       "    <tr>\n",
       "      <th>25%</th>\n",
       "      <td>-0.017685</td>\n",
       "      <td>-0.022503</td>\n",
       "      <td>-0.033722</td>\n",
       "      <td>-0.029557</td>\n",
       "      <td>-0.025328</td>\n",
       "      <td>-0.026420</td>\n",
       "      <td>-0.023924</td>\n",
       "      <td>-0.023391</td>\n",
       "      <td>-0.023317</td>\n",
       "      <td>-0.021955</td>\n",
       "      <td>-0.019282</td>\n",
       "      <td>-0.016150</td>\n",
       "    </tr>\n",
       "    <tr>\n",
       "      <th>50%</th>\n",
       "      <td>0.012761</td>\n",
       "      <td>0.012029</td>\n",
       "      <td>0.005498</td>\n",
       "      <td>0.008656</td>\n",
       "      <td>0.008357</td>\n",
       "      <td>0.010515</td>\n",
       "      <td>0.011303</td>\n",
       "      <td>0.011823</td>\n",
       "      <td>0.013502</td>\n",
       "      <td>0.013141</td>\n",
       "      <td>0.013789</td>\n",
       "      <td>0.012460</td>\n",
       "    </tr>\n",
       "    <tr>\n",
       "      <th>75%</th>\n",
       "      <td>0.037924</td>\n",
       "      <td>0.041073</td>\n",
       "      <td>0.041991</td>\n",
       "      <td>0.040795</td>\n",
       "      <td>0.040907</td>\n",
       "      <td>0.041977</td>\n",
       "      <td>0.041774</td>\n",
       "      <td>0.043308</td>\n",
       "      <td>0.043627</td>\n",
       "      <td>0.041714</td>\n",
       "      <td>0.041953</td>\n",
       "      <td>0.037571</td>\n",
       "    </tr>\n",
       "    <tr>\n",
       "      <th>max</th>\n",
       "      <td>0.394143</td>\n",
       "      <td>0.665936</td>\n",
       "      <td>1.112312</td>\n",
       "      <td>0.865855</td>\n",
       "      <td>0.894700</td>\n",
       "      <td>0.641794</td>\n",
       "      <td>0.605076</td>\n",
       "      <td>0.537786</td>\n",
       "      <td>0.538020</td>\n",
       "      <td>0.514179</td>\n",
       "      <td>0.439538</td>\n",
       "      <td>0.365025</td>\n",
       "    </tr>\n",
       "  </tbody>\n",
       "</table>\n",
       "</div>"
      ],
      "text/plain": [
       "                VW           EW         Dec1         Dec2         Dec3  \\\n",
       "count  1034.000000  1034.000000  1034.000000  1034.000000  1034.000000   \n",
       "mean      0.008696     0.008500     0.007287     0.006715     0.006447   \n",
       "std       0.053592     0.070439     0.094603     0.084874     0.077030   \n",
       "min      -0.291731    -0.312753    -0.350205    -0.357532    -0.325695   \n",
       "25%      -0.017685    -0.022503    -0.033722    -0.029557    -0.025328   \n",
       "50%       0.012761     0.012029     0.005498     0.008656     0.008357   \n",
       "75%       0.037924     0.041073     0.041991     0.040795     0.040907   \n",
       "max       0.394143     0.665936     1.112312     0.865855     0.894700   \n",
       "\n",
       "              Dec4         Dec5         Dec6         Dec7         Dec8  \\\n",
       "count  1034.000000  1034.000000  1034.000000  1034.000000  1034.000000   \n",
       "mean      0.007168     0.007995     0.008277     0.008933     0.008624   \n",
       "std       0.073076     0.071001     0.068752     0.066219     0.062694   \n",
       "min      -0.319836    -0.333994    -0.323497    -0.299028    -0.325057   \n",
       "25%      -0.026420    -0.023924    -0.023391    -0.023317    -0.021955   \n",
       "50%       0.010515     0.011303     0.011823     0.013502     0.013141   \n",
       "75%       0.041977     0.041774     0.043308     0.043627     0.041714   \n",
       "max       0.641794     0.605076     0.537786     0.538020     0.514179   \n",
       "\n",
       "              Dec9        Dec10  \n",
       "count  1034.000000  1034.000000  \n",
       "mean      0.009382     0.008716  \n",
       "std       0.059574     0.051321  \n",
       "min      -0.314467    -0.281972  \n",
       "25%      -0.019282    -0.016150  \n",
       "50%       0.013789     0.012460  \n",
       "75%       0.041953     0.037571  \n",
       "max       0.439538     0.365025  "
      ]
     },
     "execution_count": 42,
     "metadata": {},
     "output_type": "execute_result"
    }
   ],
   "source": [
    "#summary statistics \n",
    "month_df.describe()"
   ]
  },
  {
   "cell_type": "code",
   "execution_count": 44,
   "metadata": {},
   "outputs": [
    {
     "data": {
      "text/plain": [
       "array([0.14891605, 1.59270498, 3.53338998, 2.25975384, 2.10277652,\n",
       "       1.12668144, 0.9207269 , 0.642364  , 0.42401924, 0.28633548,\n",
       "       0.2029006 , 0.08164921])"
      ]
     },
     "execution_count": 44,
     "metadata": {},
     "output_type": "execute_result"
    }
   ],
   "source": [
    "#skewness test\n",
    "skew(month_df)\n"
   ]
  },
  {
   "cell_type": "code",
   "execution_count": 45,
   "metadata": {},
   "outputs": [
    {
     "data": {
      "text/plain": [
       "array([ 8.39272066, 17.64527652, 36.8413594 , 23.97116306, 26.11031214,\n",
       "       13.97717454, 12.66349972, 10.24485514,  8.77295745,  8.85801352,\n",
       "        8.28229119,  7.8212698 ])"
      ]
     },
     "execution_count": 45,
     "metadata": {},
     "output_type": "execute_result"
    }
   ],
   "source": [
    "#kurtosis test\n",
    "kurtosis(month_df)"
   ]
  },
  {
   "cell_type": "code",
   "execution_count": 47,
   "metadata": {},
   "outputs": [
    {
     "name": "stderr",
     "output_type": "stream",
     "text": [
      "C:\\Users\\16138\\anaconda3\\lib\\site-packages\\scipy\\stats\\stats.py:1603: UserWarning: kurtosistest only valid for n>=20 ... continuing anyway, n=12\n",
      "  warnings.warn(\"kurtosistest only valid for n>=20 ... continuing \"\n"
     ]
    },
    {
     "data": {
      "text/plain": [
       "NormaltestResult(statistic=4.028935239455341, pvalue=0.13339139941537165)"
      ]
     },
     "execution_count": 47,
     "metadata": {},
     "output_type": "execute_result"
    }
   ],
   "source": [
    "#normal test\n",
    "normaltest(skew(month_df))"
   ]
  },
  {
   "cell_type": "code",
   "execution_count": 48,
   "metadata": {},
   "outputs": [
    {
     "data": {
      "text/plain": [
       "NormaltestResult(statistic=6.087527035952243, pvalue=0.04765520037141705)"
      ]
     },
     "execution_count": 48,
     "metadata": {},
     "output_type": "execute_result"
    }
   ],
   "source": [
    "#normal test\n",
    "normaltest(kurtosis(month_df))"
   ]
  },
  {
   "cell_type": "code",
   "execution_count": null,
   "metadata": {},
   "outputs": [],
   "source": [
    "#the normal test results are vastly different when january is removed from the equation\n",
    "#when doing the normal test for skewness still has a high p-value- not normal\n",
    "#normal test for kurtosis- small p-value, distribution is normal"
   ]
  },
  {
   "cell_type": "markdown",
   "metadata": {},
   "source": [
    "#### Question 2"
   ]
  },
  {
   "cell_type": "code",
   "execution_count": 16,
   "metadata": {},
   "outputs": [],
   "source": [
    "#import datetime"
   ]
  },
  {
   "cell_type": "code",
   "execution_count": 92,
   "metadata": {},
   "outputs": [],
   "source": [
    "# Input the data\n",
    "daily = pd.read_csv('./daily.csv',header=None)\n",
    "\n",
    "# change column names\n",
    "daily.columns = ['date', 'value-weighted', 'equal-weighted']\n",
    "\n",
    "# convert date into datetime object \n",
    "daily['date'] = pd.to_datetime(daily['date'], format='%Y%m%d') # http://strftime.org/\n",
    "\n",
    "### create variable weekday that represents the day in the date column \n",
    "### (NOTE: python count starts at 0)\n",
    "weekday = daily['date'].dt.dayofweek\n",
    "week_label = ['Monday','Tuesday','Wednesday','Thursday','Friday','Saturday']\n",
    "\n"
   ]
  },
  {
   "cell_type": "code",
   "execution_count": 53,
   "metadata": {},
   "outputs": [
    {
     "data": {
      "text/html": [
       "<div>\n",
       "<style scoped>\n",
       "    .dataframe tbody tr th:only-of-type {\n",
       "        vertical-align: middle;\n",
       "    }\n",
       "\n",
       "    .dataframe tbody tr th {\n",
       "        vertical-align: top;\n",
       "    }\n",
       "\n",
       "    .dataframe thead th {\n",
       "        text-align: right;\n",
       "    }\n",
       "</style>\n",
       "<table border=\"1\" class=\"dataframe\">\n",
       "  <thead>\n",
       "    <tr style=\"text-align: right;\">\n",
       "      <th></th>\n",
       "      <th>value-weighted</th>\n",
       "      <th>equal-weighted</th>\n",
       "    </tr>\n",
       "  </thead>\n",
       "  <tbody>\n",
       "    <tr>\n",
       "      <th>count</th>\n",
       "      <td>24792.000000</td>\n",
       "      <td>24792.000000</td>\n",
       "    </tr>\n",
       "    <tr>\n",
       "      <th>mean</th>\n",
       "      <td>0.000412</td>\n",
       "      <td>0.000829</td>\n",
       "    </tr>\n",
       "    <tr>\n",
       "      <th>std</th>\n",
       "      <td>0.010568</td>\n",
       "      <td>0.010472</td>\n",
       "    </tr>\n",
       "    <tr>\n",
       "      <th>min</th>\n",
       "      <td>-0.171349</td>\n",
       "      <td>-0.135467</td>\n",
       "    </tr>\n",
       "    <tr>\n",
       "      <th>25%</th>\n",
       "      <td>-0.003800</td>\n",
       "      <td>-0.002906</td>\n",
       "    </tr>\n",
       "    <tr>\n",
       "      <th>50%</th>\n",
       "      <td>0.000746</td>\n",
       "      <td>0.001307</td>\n",
       "    </tr>\n",
       "    <tr>\n",
       "      <th>75%</th>\n",
       "      <td>0.005005</td>\n",
       "      <td>0.005012</td>\n",
       "    </tr>\n",
       "    <tr>\n",
       "      <th>max</th>\n",
       "      <td>0.156838</td>\n",
       "      <td>0.203020</td>\n",
       "    </tr>\n",
       "  </tbody>\n",
       "</table>\n",
       "</div>"
      ],
      "text/plain": [
       "       value-weighted  equal-weighted\n",
       "count    24792.000000    24792.000000\n",
       "mean         0.000412        0.000829\n",
       "std          0.010568        0.010472\n",
       "min         -0.171349       -0.135467\n",
       "25%         -0.003800       -0.002906\n",
       "50%          0.000746        0.001307\n",
       "75%          0.005005        0.005012\n",
       "max          0.156838        0.203020"
      ]
     },
     "execution_count": 53,
     "metadata": {},
     "output_type": "execute_result"
    }
   ],
   "source": [
    "#computing summmary statistics for the data\n",
    "daily.describe()"
   ]
  },
  {
   "cell_type": "code",
   "execution_count": 19,
   "metadata": {
    "scrolled": true
   },
   "outputs": [
    {
     "data": {
      "text/plain": [
       "array([ 0.06789623, -0.13039151,  0.32294331])"
      ]
     },
     "execution_count": 19,
     "metadata": {},
     "output_type": "execute_result"
    }
   ],
   "source": [
    "#calculating skewness\n",
    "skew(daily)"
   ]
  },
  {
   "cell_type": "code",
   "execution_count": 20,
   "metadata": {},
   "outputs": [
    {
     "data": {
      "text/plain": [
       "array([-1.23653561, 16.72439458, 25.79055918])"
      ]
     },
     "execution_count": 20,
     "metadata": {},
     "output_type": "execute_result"
    }
   ],
   "source": [
    "#calulcating kurtosis\n",
    "kurtosis(daily)"
   ]
  },
  {
   "cell_type": "code",
   "execution_count": 95,
   "metadata": {},
   "outputs": [
    {
     "name": "stdout",
     "output_type": "stream",
     "text": [
      "1.2365356115751833\n",
      "-16.724394577986818\n",
      "-25.79055918246586\n"
     ]
    }
   ],
   "source": [
    "#normal test- using scipy does not work as there is less than 8 samples\n",
    "#kutosis should be around 0:\n",
    "for v in kurtosis(daily):\n",
    "    print(0-v)\n",
    "#distribution is not normal\n"
   ]
  },
  {
   "cell_type": "code",
   "execution_count": 96,
   "metadata": {},
   "outputs": [
    {
     "name": "stdout",
     "output_type": "stream",
     "text": [
      "-0.06789623016246438\n",
      "0.13039151302383362\n",
      "-0.32294330880668204\n"
     ]
    }
   ],
   "source": [
    "#skewness should be around 0 \n",
    "for v in skew(daily):\n",
    "    print(0-v)\n",
    "#values approach 0 but not enough to be normal"
   ]
  },
  {
   "cell_type": "code",
   "execution_count": 58,
   "metadata": {},
   "outputs": [
    {
     "name": "stdout",
     "output_type": "stream",
     "text": [
      "              0         1         2\n",
      "0      19260102  0.005689  0.009516\n",
      "6      19260109  0.002209  0.003312\n",
      "12     19260116 -0.001224 -0.001544\n",
      "18     19260123  0.005657  0.006987\n",
      "24     19260130  0.000687  0.004532\n",
      "...         ...       ...       ...\n",
      "24762  20191118  0.000150 -0.003681\n",
      "24768  20191126  0.002265  0.000353\n",
      "24774  20191205  0.001087 -0.000769\n",
      "24780  20191213 -0.000017 -0.001026\n",
      "24786  20191223  0.000947  0.004648\n",
      "\n",
      "[4132 rows x 3 columns]\n"
     ]
    }
   ],
   "source": [
    "#look on splitting data again\n",
    "newdaily=pd.read_csv(\"./daily.csv\",header=None)\n",
    "sat_rows=newdaily.loc[::6,:]\n",
    "print(sat_rows)"
   ]
  },
  {
   "cell_type": "code",
   "execution_count": 60,
   "metadata": {},
   "outputs": [
    {
     "name": "stdout",
     "output_type": "stream",
     "text": [
      "              1         2\n",
      "0      0.005689  0.009516\n",
      "6      0.002209  0.003312\n",
      "12    -0.001224 -0.001544\n",
      "18     0.005657  0.006987\n",
      "24     0.000687  0.004532\n",
      "...         ...       ...\n",
      "24762  0.000150 -0.003681\n",
      "24768  0.002265  0.000353\n",
      "24774  0.001087 -0.000769\n",
      "24780 -0.000017 -0.001026\n",
      "24786  0.000947  0.004648\n",
      "\n",
      "[4132 rows x 2 columns]\n"
     ]
    }
   ],
   "source": [
    "sat_df=sat_rows.drop(0,axis=1)\n",
    "print(sat_df)\n"
   ]
  },
  {
   "cell_type": "code",
   "execution_count": 61,
   "metadata": {},
   "outputs": [
    {
     "data": {
      "text/html": [
       "<div>\n",
       "<style scoped>\n",
       "    .dataframe tbody tr th:only-of-type {\n",
       "        vertical-align: middle;\n",
       "    }\n",
       "\n",
       "    .dataframe tbody tr th {\n",
       "        vertical-align: top;\n",
       "    }\n",
       "\n",
       "    .dataframe thead th {\n",
       "        text-align: right;\n",
       "    }\n",
       "</style>\n",
       "<table border=\"1\" class=\"dataframe\">\n",
       "  <thead>\n",
       "    <tr style=\"text-align: right;\">\n",
       "      <th></th>\n",
       "      <th>1</th>\n",
       "      <th>2</th>\n",
       "    </tr>\n",
       "  </thead>\n",
       "  <tbody>\n",
       "    <tr>\n",
       "      <th>count</th>\n",
       "      <td>4132.000000</td>\n",
       "      <td>4132.000000</td>\n",
       "    </tr>\n",
       "    <tr>\n",
       "      <th>mean</th>\n",
       "      <td>0.000466</td>\n",
       "      <td>0.000867</td>\n",
       "    </tr>\n",
       "    <tr>\n",
       "      <th>std</th>\n",
       "      <td>0.010486</td>\n",
       "      <td>0.010313</td>\n",
       "    </tr>\n",
       "    <tr>\n",
       "      <th>min</th>\n",
       "      <td>-0.113021</td>\n",
       "      <td>-0.095202</td>\n",
       "    </tr>\n",
       "    <tr>\n",
       "      <th>25%</th>\n",
       "      <td>-0.003642</td>\n",
       "      <td>-0.002842</td>\n",
       "    </tr>\n",
       "    <tr>\n",
       "      <th>50%</th>\n",
       "      <td>0.000739</td>\n",
       "      <td>0.001354</td>\n",
       "    </tr>\n",
       "    <tr>\n",
       "      <th>75%</th>\n",
       "      <td>0.005123</td>\n",
       "      <td>0.005007</td>\n",
       "    </tr>\n",
       "    <tr>\n",
       "      <th>max</th>\n",
       "      <td>0.080367</td>\n",
       "      <td>0.124870</td>\n",
       "    </tr>\n",
       "  </tbody>\n",
       "</table>\n",
       "</div>"
      ],
      "text/plain": [
       "                 1            2\n",
       "count  4132.000000  4132.000000\n",
       "mean      0.000466     0.000867\n",
       "std       0.010486     0.010313\n",
       "min      -0.113021    -0.095202\n",
       "25%      -0.003642    -0.002842\n",
       "50%       0.000739     0.001354\n",
       "75%       0.005123     0.005007\n",
       "max       0.080367     0.124870"
      ]
     },
     "execution_count": 61,
     "metadata": {},
     "output_type": "execute_result"
    }
   ],
   "source": [
    "#summary statistics for saturday\n",
    "sat_df.describe()"
   ]
  },
  {
   "cell_type": "code",
   "execution_count": 62,
   "metadata": {},
   "outputs": [
    {
     "data": {
      "text/plain": [
       "array([-0.61126386, -0.03140307])"
      ]
     },
     "execution_count": 62,
     "metadata": {},
     "output_type": "execute_result"
    }
   ],
   "source": [
    "#skewness test\n",
    "skew(sat_df)"
   ]
  },
  {
   "cell_type": "code",
   "execution_count": 63,
   "metadata": {},
   "outputs": [
    {
     "data": {
      "text/plain": [
       "array([12.20783704, 16.14253474])"
      ]
     },
     "execution_count": 63,
     "metadata": {},
     "output_type": "execute_result"
    }
   ],
   "source": [
    "#kurtosis test\n",
    "kurtosis(sat_df)"
   ]
  },
  {
   "cell_type": "code",
   "execution_count": 97,
   "metadata": {},
   "outputs": [
    {
     "name": "stdout",
     "output_type": "stream",
     "text": [
      "0.6112638591373818\n",
      "0.031403065378733906\n"
     ]
    }
   ],
   "source": [
    "#normaltest\n",
    "#skewness should be around 0 \n",
    "for v in skew(sat_df):\n",
    "    print(0-v)\n",
    "#values approach 0 but not enough to be normal"
   ]
  },
  {
   "cell_type": "code",
   "execution_count": 98,
   "metadata": {},
   "outputs": [
    {
     "name": "stdout",
     "output_type": "stream",
     "text": [
      "-12.207837039999125\n",
      "-16.14253473748843\n"
     ]
    }
   ],
   "source": [
    "#kurtosis should be around 0 \n",
    "for v in kurtosis(sat_df):\n",
    "    print(0-v)\n",
    "#distribution is not normal"
   ]
  },
  {
   "cell_type": "code",
   "execution_count": 68,
   "metadata": {},
   "outputs": [
    {
     "data": {
      "text/html": [
       "<div>\n",
       "<style scoped>\n",
       "    .dataframe tbody tr th:only-of-type {\n",
       "        vertical-align: middle;\n",
       "    }\n",
       "\n",
       "    .dataframe tbody tr th {\n",
       "        vertical-align: top;\n",
       "    }\n",
       "\n",
       "    .dataframe thead th {\n",
       "        text-align: right;\n",
       "    }\n",
       "</style>\n",
       "<table border=\"1\" class=\"dataframe\">\n",
       "  <thead>\n",
       "    <tr style=\"text-align: right;\">\n",
       "      <th></th>\n",
       "      <th>1</th>\n",
       "      <th>2</th>\n",
       "    </tr>\n",
       "  </thead>\n",
       "  <tbody>\n",
       "    <tr>\n",
       "      <th>count</th>\n",
       "      <td>4132.000000</td>\n",
       "      <td>4132.000000</td>\n",
       "    </tr>\n",
       "    <tr>\n",
       "      <th>mean</th>\n",
       "      <td>0.000394</td>\n",
       "      <td>0.000740</td>\n",
       "    </tr>\n",
       "    <tr>\n",
       "      <th>std</th>\n",
       "      <td>0.010504</td>\n",
       "      <td>0.010343</td>\n",
       "    </tr>\n",
       "    <tr>\n",
       "      <th>min</th>\n",
       "      <td>-0.119539</td>\n",
       "      <td>-0.134856</td>\n",
       "    </tr>\n",
       "    <tr>\n",
       "      <th>25%</th>\n",
       "      <td>-0.003908</td>\n",
       "      <td>-0.003083</td>\n",
       "    </tr>\n",
       "    <tr>\n",
       "      <th>50%</th>\n",
       "      <td>0.000839</td>\n",
       "      <td>0.001287</td>\n",
       "    </tr>\n",
       "    <tr>\n",
       "      <th>75%</th>\n",
       "      <td>0.004951</td>\n",
       "      <td>0.005104</td>\n",
       "    </tr>\n",
       "    <tr>\n",
       "      <th>max</th>\n",
       "      <td>0.095421</td>\n",
       "      <td>0.104127</td>\n",
       "    </tr>\n",
       "  </tbody>\n",
       "</table>\n",
       "</div>"
      ],
      "text/plain": [
       "                 1            2\n",
       "count  4132.000000  4132.000000\n",
       "mean      0.000394     0.000740\n",
       "std       0.010504     0.010343\n",
       "min      -0.119539    -0.134856\n",
       "25%      -0.003908    -0.003083\n",
       "50%       0.000839     0.001287\n",
       "75%       0.004951     0.005104\n",
       "max       0.095421     0.104127"
      ]
     },
     "execution_count": 68,
     "metadata": {},
     "output_type": "execute_result"
    }
   ],
   "source": [
    "#summary statistics for monday\n",
    "mon_rows=newdaily.loc[1::6,:]\n",
    "mon_df=mon_rows.drop(0,axis=1)\n",
    "mon_df.describe()"
   ]
  },
  {
   "cell_type": "code",
   "execution_count": 69,
   "metadata": {},
   "outputs": [
    {
     "data": {
      "text/plain": [
       "array([-0.37782822, -0.83899788])"
      ]
     },
     "execution_count": 69,
     "metadata": {},
     "output_type": "execute_result"
    }
   ],
   "source": [
    "#skewness test\n",
    "skew(mon_df)"
   ]
  },
  {
   "cell_type": "code",
   "execution_count": 70,
   "metadata": {},
   "outputs": [
    {
     "data": {
      "text/plain": [
       "array([13.40126046, 19.83258933])"
      ]
     },
     "execution_count": 70,
     "metadata": {},
     "output_type": "execute_result"
    }
   ],
   "source": [
    "#kurtosis test \n",
    "kurtosis(mon_df)"
   ]
  },
  {
   "cell_type": "code",
   "execution_count": 100,
   "metadata": {},
   "outputs": [
    {
     "name": "stdout",
     "output_type": "stream",
     "text": [
      "0.37782821869175093\n",
      "0.8389978803177551\n"
     ]
    }
   ],
   "source": [
    "#normal test\n",
    "#skewness should be around 0 \n",
    "for v in skew(mon_df):\n",
    "    print(0-v)\n",
    "#values approach 0 but not enough to be normal"
   ]
  },
  {
   "cell_type": "code",
   "execution_count": 101,
   "metadata": {},
   "outputs": [
    {
     "name": "stdout",
     "output_type": "stream",
     "text": [
      "-13.401260461567396\n",
      "-19.832589330264852\n"
     ]
    }
   ],
   "source": [
    "#kurtosis should be around 0 \n",
    "for v in kurtosis(mon_df):\n",
    "    print(0-v)\n",
    "#values are not normal (\"fat\" tail)"
   ]
  },
  {
   "cell_type": "code",
   "execution_count": 71,
   "metadata": {},
   "outputs": [
    {
     "data": {
      "text/html": [
       "<div>\n",
       "<style scoped>\n",
       "    .dataframe tbody tr th:only-of-type {\n",
       "        vertical-align: middle;\n",
       "    }\n",
       "\n",
       "    .dataframe tbody tr th {\n",
       "        vertical-align: top;\n",
       "    }\n",
       "\n",
       "    .dataframe thead th {\n",
       "        text-align: right;\n",
       "    }\n",
       "</style>\n",
       "<table border=\"1\" class=\"dataframe\">\n",
       "  <thead>\n",
       "    <tr style=\"text-align: right;\">\n",
       "      <th></th>\n",
       "      <th>1</th>\n",
       "      <th>2</th>\n",
       "    </tr>\n",
       "  </thead>\n",
       "  <tbody>\n",
       "    <tr>\n",
       "      <th>count</th>\n",
       "      <td>4132.000000</td>\n",
       "      <td>4132.000000</td>\n",
       "    </tr>\n",
       "    <tr>\n",
       "      <th>mean</th>\n",
       "      <td>0.000394</td>\n",
       "      <td>0.000740</td>\n",
       "    </tr>\n",
       "    <tr>\n",
       "      <th>std</th>\n",
       "      <td>0.010504</td>\n",
       "      <td>0.010343</td>\n",
       "    </tr>\n",
       "    <tr>\n",
       "      <th>min</th>\n",
       "      <td>-0.119539</td>\n",
       "      <td>-0.134856</td>\n",
       "    </tr>\n",
       "    <tr>\n",
       "      <th>25%</th>\n",
       "      <td>-0.003908</td>\n",
       "      <td>-0.003083</td>\n",
       "    </tr>\n",
       "    <tr>\n",
       "      <th>50%</th>\n",
       "      <td>0.000839</td>\n",
       "      <td>0.001287</td>\n",
       "    </tr>\n",
       "    <tr>\n",
       "      <th>75%</th>\n",
       "      <td>0.004951</td>\n",
       "      <td>0.005104</td>\n",
       "    </tr>\n",
       "    <tr>\n",
       "      <th>max</th>\n",
       "      <td>0.095421</td>\n",
       "      <td>0.104127</td>\n",
       "    </tr>\n",
       "  </tbody>\n",
       "</table>\n",
       "</div>"
      ],
      "text/plain": [
       "                 1            2\n",
       "count  4132.000000  4132.000000\n",
       "mean      0.000394     0.000740\n",
       "std       0.010504     0.010343\n",
       "min      -0.119539    -0.134856\n",
       "25%      -0.003908    -0.003083\n",
       "50%       0.000839     0.001287\n",
       "75%       0.004951     0.005104\n",
       "max       0.095421     0.104127"
      ]
     },
     "execution_count": 71,
     "metadata": {},
     "output_type": "execute_result"
    }
   ],
   "source": [
    "tue_rows=newdaily.loc[2::6,:]\n",
    "tue_df=mon_rows.drop(0,axis=1)\n",
    "tue_df.describe()"
   ]
  },
  {
   "cell_type": "code",
   "execution_count": 72,
   "metadata": {},
   "outputs": [
    {
     "data": {
      "text/plain": [
       "array([-0.37782822, -0.83899788])"
      ]
     },
     "execution_count": 72,
     "metadata": {},
     "output_type": "execute_result"
    }
   ],
   "source": [
    "#skewness test\n",
    "skew(tue_df)"
   ]
  },
  {
   "cell_type": "code",
   "execution_count": 73,
   "metadata": {},
   "outputs": [
    {
     "data": {
      "text/plain": [
       "array([13.40126046, 19.83258933])"
      ]
     },
     "execution_count": 73,
     "metadata": {},
     "output_type": "execute_result"
    }
   ],
   "source": [
    "#kurtosis test\n",
    "kurtosis(tue_df)"
   ]
  },
  {
   "cell_type": "code",
   "execution_count": 103,
   "metadata": {},
   "outputs": [
    {
     "name": "stdout",
     "output_type": "stream",
     "text": [
      "0.37782821869175093\n",
      "0.8389978803177551\n"
     ]
    }
   ],
   "source": [
    "#normal test\n",
    "#skewness should be around 0 \n",
    "for v in skew(tue_df):\n",
    "    print(0-v)\n",
    "#values approach 0 but not enough to be normal"
   ]
  },
  {
   "cell_type": "code",
   "execution_count": 104,
   "metadata": {},
   "outputs": [
    {
     "name": "stdout",
     "output_type": "stream",
     "text": [
      "-13.401260461567396\n",
      "-19.832589330264852\n"
     ]
    }
   ],
   "source": [
    "#kurtosis should be around 0 \n",
    "for v in kurtosis(tue_df):\n",
    "    print(0-v)\n",
    "#values are not normal"
   ]
  },
  {
   "cell_type": "code",
   "execution_count": 81,
   "metadata": {},
   "outputs": [
    {
     "data": {
      "text/html": [
       "<div>\n",
       "<style scoped>\n",
       "    .dataframe tbody tr th:only-of-type {\n",
       "        vertical-align: middle;\n",
       "    }\n",
       "\n",
       "    .dataframe tbody tr th {\n",
       "        vertical-align: top;\n",
       "    }\n",
       "\n",
       "    .dataframe thead th {\n",
       "        text-align: right;\n",
       "    }\n",
       "</style>\n",
       "<table border=\"1\" class=\"dataframe\">\n",
       "  <thead>\n",
       "    <tr style=\"text-align: right;\">\n",
       "      <th></th>\n",
       "      <th>1</th>\n",
       "      <th>2</th>\n",
       "    </tr>\n",
       "  </thead>\n",
       "  <tbody>\n",
       "    <tr>\n",
       "      <th>count</th>\n",
       "      <td>4132.000000</td>\n",
       "      <td>4132.000000</td>\n",
       "    </tr>\n",
       "    <tr>\n",
       "      <th>mean</th>\n",
       "      <td>0.000394</td>\n",
       "      <td>0.000740</td>\n",
       "    </tr>\n",
       "    <tr>\n",
       "      <th>std</th>\n",
       "      <td>0.010504</td>\n",
       "      <td>0.010343</td>\n",
       "    </tr>\n",
       "    <tr>\n",
       "      <th>min</th>\n",
       "      <td>-0.119539</td>\n",
       "      <td>-0.134856</td>\n",
       "    </tr>\n",
       "    <tr>\n",
       "      <th>25%</th>\n",
       "      <td>-0.003908</td>\n",
       "      <td>-0.003083</td>\n",
       "    </tr>\n",
       "    <tr>\n",
       "      <th>50%</th>\n",
       "      <td>0.000839</td>\n",
       "      <td>0.001287</td>\n",
       "    </tr>\n",
       "    <tr>\n",
       "      <th>75%</th>\n",
       "      <td>0.004951</td>\n",
       "      <td>0.005104</td>\n",
       "    </tr>\n",
       "    <tr>\n",
       "      <th>max</th>\n",
       "      <td>0.095421</td>\n",
       "      <td>0.104127</td>\n",
       "    </tr>\n",
       "  </tbody>\n",
       "</table>\n",
       "</div>"
      ],
      "text/plain": [
       "                 1            2\n",
       "count  4132.000000  4132.000000\n",
       "mean      0.000394     0.000740\n",
       "std       0.010504     0.010343\n",
       "min      -0.119539    -0.134856\n",
       "25%      -0.003908    -0.003083\n",
       "50%       0.000839     0.001287\n",
       "75%       0.004951     0.005104\n",
       "max       0.095421     0.104127"
      ]
     },
     "execution_count": 81,
     "metadata": {},
     "output_type": "execute_result"
    }
   ],
   "source": [
    "wed_rows=newdaily.loc[3::6,:]\n",
    "wed_df=mon_rows.drop(0,axis=1)\n",
    "wed_df.describe()"
   ]
  },
  {
   "cell_type": "code",
   "execution_count": 82,
   "metadata": {},
   "outputs": [
    {
     "data": {
      "text/plain": [
       "array([-0.37782822, -0.83899788])"
      ]
     },
     "execution_count": 82,
     "metadata": {},
     "output_type": "execute_result"
    }
   ],
   "source": [
    "#skewness\n",
    "skew(wed_df)"
   ]
  },
  {
   "cell_type": "code",
   "execution_count": 83,
   "metadata": {},
   "outputs": [
    {
     "data": {
      "text/plain": [
       "array([13.40126046, 19.83258933])"
      ]
     },
     "execution_count": 83,
     "metadata": {},
     "output_type": "execute_result"
    }
   ],
   "source": [
    "#kurtosis\n",
    "kurtosis(wed_df)"
   ]
  },
  {
   "cell_type": "code",
   "execution_count": 106,
   "metadata": {},
   "outputs": [
    {
     "name": "stdout",
     "output_type": "stream",
     "text": [
      "0.37782821869175093\n",
      "0.8389978803177551\n"
     ]
    }
   ],
   "source": [
    "#normal test\n",
    "#skewness should be around 0 \n",
    "for v in skew(wed_df):\n",
    "    print(0-v)\n",
    "#values are close to 0 not normal"
   ]
  },
  {
   "cell_type": "code",
   "execution_count": 107,
   "metadata": {},
   "outputs": [
    {
     "name": "stdout",
     "output_type": "stream",
     "text": [
      "-13.401260461567396\n",
      "-19.832589330264852\n"
     ]
    }
   ],
   "source": [
    "#kurtosis should be around 0 \n",
    "for v in kurtosis(wed_df):\n",
    "    print(0-v)\n",
    "#values are not normal"
   ]
  },
  {
   "cell_type": "code",
   "execution_count": 84,
   "metadata": {},
   "outputs": [
    {
     "data": {
      "text/html": [
       "<div>\n",
       "<style scoped>\n",
       "    .dataframe tbody tr th:only-of-type {\n",
       "        vertical-align: middle;\n",
       "    }\n",
       "\n",
       "    .dataframe tbody tr th {\n",
       "        vertical-align: top;\n",
       "    }\n",
       "\n",
       "    .dataframe thead th {\n",
       "        text-align: right;\n",
       "    }\n",
       "</style>\n",
       "<table border=\"1\" class=\"dataframe\">\n",
       "  <thead>\n",
       "    <tr style=\"text-align: right;\">\n",
       "      <th></th>\n",
       "      <th>1</th>\n",
       "      <th>2</th>\n",
       "    </tr>\n",
       "  </thead>\n",
       "  <tbody>\n",
       "    <tr>\n",
       "      <th>count</th>\n",
       "      <td>4132.000000</td>\n",
       "      <td>4132.000000</td>\n",
       "    </tr>\n",
       "    <tr>\n",
       "      <th>mean</th>\n",
       "      <td>0.000394</td>\n",
       "      <td>0.000740</td>\n",
       "    </tr>\n",
       "    <tr>\n",
       "      <th>std</th>\n",
       "      <td>0.010504</td>\n",
       "      <td>0.010343</td>\n",
       "    </tr>\n",
       "    <tr>\n",
       "      <th>min</th>\n",
       "      <td>-0.119539</td>\n",
       "      <td>-0.134856</td>\n",
       "    </tr>\n",
       "    <tr>\n",
       "      <th>25%</th>\n",
       "      <td>-0.003908</td>\n",
       "      <td>-0.003083</td>\n",
       "    </tr>\n",
       "    <tr>\n",
       "      <th>50%</th>\n",
       "      <td>0.000839</td>\n",
       "      <td>0.001287</td>\n",
       "    </tr>\n",
       "    <tr>\n",
       "      <th>75%</th>\n",
       "      <td>0.004951</td>\n",
       "      <td>0.005104</td>\n",
       "    </tr>\n",
       "    <tr>\n",
       "      <th>max</th>\n",
       "      <td>0.095421</td>\n",
       "      <td>0.104127</td>\n",
       "    </tr>\n",
       "  </tbody>\n",
       "</table>\n",
       "</div>"
      ],
      "text/plain": [
       "                 1            2\n",
       "count  4132.000000  4132.000000\n",
       "mean      0.000394     0.000740\n",
       "std       0.010504     0.010343\n",
       "min      -0.119539    -0.134856\n",
       "25%      -0.003908    -0.003083\n",
       "50%       0.000839     0.001287\n",
       "75%       0.004951     0.005104\n",
       "max       0.095421     0.104127"
      ]
     },
     "execution_count": 84,
     "metadata": {},
     "output_type": "execute_result"
    }
   ],
   "source": [
    "thurs_rows=newdaily.loc[4::6,:]\n",
    "thurs_df=mon_rows.drop(0,axis=1)\n",
    "thurs_df.describe()"
   ]
  },
  {
   "cell_type": "code",
   "execution_count": 85,
   "metadata": {},
   "outputs": [
    {
     "data": {
      "text/plain": [
       "array([-0.37782822, -0.83899788])"
      ]
     },
     "execution_count": 85,
     "metadata": {},
     "output_type": "execute_result"
    }
   ],
   "source": [
    "#skewness\n",
    "skew(thurs_df)"
   ]
  },
  {
   "cell_type": "code",
   "execution_count": 86,
   "metadata": {},
   "outputs": [
    {
     "data": {
      "text/plain": [
       "array([13.40126046, 19.83258933])"
      ]
     },
     "execution_count": 86,
     "metadata": {},
     "output_type": "execute_result"
    }
   ],
   "source": [
    "#kurtosis\n",
    "kurtosis(thurs_df)"
   ]
  },
  {
   "cell_type": "code",
   "execution_count": 109,
   "metadata": {},
   "outputs": [
    {
     "name": "stdout",
     "output_type": "stream",
     "text": [
      "0.37782821869175093\n",
      "0.8389978803177551\n"
     ]
    }
   ],
   "source": [
    "#normal test\n",
    "#skewness should be around 0 \n",
    "for v in skew(thurs_df):\n",
    "    print(0-v)\n",
    "#values are not normal"
   ]
  },
  {
   "cell_type": "code",
   "execution_count": 110,
   "metadata": {},
   "outputs": [
    {
     "name": "stdout",
     "output_type": "stream",
     "text": [
      "-13.401260461567396\n",
      "-19.832589330264852\n"
     ]
    }
   ],
   "source": [
    "#kurtosis should be around 0 \n",
    "for v in kurtosis(thurs_df):\n",
    "    print(0-v)\n",
    "#values are not normal"
   ]
  },
  {
   "cell_type": "code",
   "execution_count": 87,
   "metadata": {},
   "outputs": [
    {
     "data": {
      "text/html": [
       "<div>\n",
       "<style scoped>\n",
       "    .dataframe tbody tr th:only-of-type {\n",
       "        vertical-align: middle;\n",
       "    }\n",
       "\n",
       "    .dataframe tbody tr th {\n",
       "        vertical-align: top;\n",
       "    }\n",
       "\n",
       "    .dataframe thead th {\n",
       "        text-align: right;\n",
       "    }\n",
       "</style>\n",
       "<table border=\"1\" class=\"dataframe\">\n",
       "  <thead>\n",
       "    <tr style=\"text-align: right;\">\n",
       "      <th></th>\n",
       "      <th>1</th>\n",
       "      <th>2</th>\n",
       "    </tr>\n",
       "  </thead>\n",
       "  <tbody>\n",
       "    <tr>\n",
       "      <th>count</th>\n",
       "      <td>4132.000000</td>\n",
       "      <td>4132.000000</td>\n",
       "    </tr>\n",
       "    <tr>\n",
       "      <th>mean</th>\n",
       "      <td>0.000394</td>\n",
       "      <td>0.000740</td>\n",
       "    </tr>\n",
       "    <tr>\n",
       "      <th>std</th>\n",
       "      <td>0.010504</td>\n",
       "      <td>0.010343</td>\n",
       "    </tr>\n",
       "    <tr>\n",
       "      <th>min</th>\n",
       "      <td>-0.119539</td>\n",
       "      <td>-0.134856</td>\n",
       "    </tr>\n",
       "    <tr>\n",
       "      <th>25%</th>\n",
       "      <td>-0.003908</td>\n",
       "      <td>-0.003083</td>\n",
       "    </tr>\n",
       "    <tr>\n",
       "      <th>50%</th>\n",
       "      <td>0.000839</td>\n",
       "      <td>0.001287</td>\n",
       "    </tr>\n",
       "    <tr>\n",
       "      <th>75%</th>\n",
       "      <td>0.004951</td>\n",
       "      <td>0.005104</td>\n",
       "    </tr>\n",
       "    <tr>\n",
       "      <th>max</th>\n",
       "      <td>0.095421</td>\n",
       "      <td>0.104127</td>\n",
       "    </tr>\n",
       "  </tbody>\n",
       "</table>\n",
       "</div>"
      ],
      "text/plain": [
       "                 1            2\n",
       "count  4132.000000  4132.000000\n",
       "mean      0.000394     0.000740\n",
       "std       0.010504     0.010343\n",
       "min      -0.119539    -0.134856\n",
       "25%      -0.003908    -0.003083\n",
       "50%       0.000839     0.001287\n",
       "75%       0.004951     0.005104\n",
       "max       0.095421     0.104127"
      ]
     },
     "execution_count": 87,
     "metadata": {},
     "output_type": "execute_result"
    }
   ],
   "source": [
    "fri_rows=newdaily.loc[5::6,:]\n",
    "fri_df=mon_rows.drop(0,axis=1)\n",
    "fri_df.describe()"
   ]
  },
  {
   "cell_type": "code",
   "execution_count": 88,
   "metadata": {},
   "outputs": [
    {
     "data": {
      "text/plain": [
       "array([-0.37782822, -0.83899788])"
      ]
     },
     "execution_count": 88,
     "metadata": {},
     "output_type": "execute_result"
    }
   ],
   "source": [
    "#skewness\n",
    "skew(fri_df)"
   ]
  },
  {
   "cell_type": "code",
   "execution_count": 89,
   "metadata": {},
   "outputs": [
    {
     "data": {
      "text/plain": [
       "array([13.40126046, 19.83258933])"
      ]
     },
     "execution_count": 89,
     "metadata": {},
     "output_type": "execute_result"
    }
   ],
   "source": [
    "#kurtosis\n",
    "kurtosis(fri_df)"
   ]
  },
  {
   "cell_type": "code",
   "execution_count": 112,
   "metadata": {},
   "outputs": [
    {
     "name": "stdout",
     "output_type": "stream",
     "text": [
      "0.37782821869175093\n",
      "0.8389978803177551\n"
     ]
    }
   ],
   "source": [
    "#skewness should be around 0 \n",
    "for v in skew(fri_df):\n",
    "    print(0-v)\n",
    "#values are close to normal"
   ]
  },
  {
   "cell_type": "code",
   "execution_count": 113,
   "metadata": {},
   "outputs": [
    {
     "name": "stdout",
     "output_type": "stream",
     "text": [
      "-13.401260461567396\n",
      "-19.832589330264852\n"
     ]
    }
   ],
   "source": [
    "#kurtosis should be around 0 \n",
    "for v in kurtosis(fri_df):\n",
    "    print(0-v)\n",
    "#values are not normal"
   ]
  },
  {
   "cell_type": "code",
   "execution_count": null,
   "metadata": {},
   "outputs": [],
   "source": [
    "#normal test"
   ]
  }
 ],
 "metadata": {
  "kernelspec": {
   "display_name": "Python 3",
   "language": "python",
   "name": "python3"
  },
  "language_info": {
   "codemirror_mode": {
    "name": "ipython",
    "version": 3
   },
   "file_extension": ".py",
   "mimetype": "text/x-python",
   "name": "python",
   "nbconvert_exporter": "python",
   "pygments_lexer": "ipython3",
   "version": "3.8.3"
  }
 },
 "nbformat": 4,
 "nbformat_minor": 2
}
